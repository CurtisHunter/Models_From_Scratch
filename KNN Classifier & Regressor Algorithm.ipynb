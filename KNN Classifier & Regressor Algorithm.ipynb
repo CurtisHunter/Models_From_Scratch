{
 "cells": [
  {
   "cell_type": "markdown",
   "id": "86e88c96",
   "metadata": {},
   "source": [
    "# KNN From Scratch (with Numpy)\n",
    "\n",
    "## Setup"
   ]
  },
  {
   "cell_type": "code",
   "execution_count": 43,
   "id": "48bee706",
   "metadata": {},
   "outputs": [],
   "source": [
    "import numpy as np\n",
    "from matplotlib import pyplot as plt"
   ]
  },
  {
   "cell_type": "code",
   "execution_count": 44,
   "id": "48e17120",
   "metadata": {},
   "outputs": [],
   "source": [
    "X1_train = np.array([1,2,3,4,5,6,7,8,9,10])\n",
    "X2_train = np.array([7,6,8,1,2,2,8,7,0.5,1])\n",
    "y_train = np.array([1, 1, 1, 0, 0, 0,1,1,0,0])"
   ]
  },
  {
   "cell_type": "code",
   "execution_count": 45,
   "id": "97eb53a7",
   "metadata": {},
   "outputs": [
    {
     "data": {
      "image/png": "[encoded data removed]",
      "text/plain": [
       "<Figure size 432x288 with 1 Axes>"
      ]
     },
     "metadata": {
      "needs_background": "light"
     },
     "output_type": "display_data"
    }
   ],
   "source": [
    "markers = ['o', 'x']  # 'o' for class 0, 'x' for class 1\n",
    "colors = ['r', 'b']   # 'r' for class 0, 'b' for class 1\n",
    "\n",
    "fig, ax = plt.subplots()\n",
    "\n",
    "for i in range(len(y_train)):\n",
    "    ax.scatter(X1_train[i], X2_train[i], c=colors[y_train[i]], marker=markers[y_train[i]])\n",
    "\n",
    "ax.plot([0, 10], [2, 6], 'k--') \n",
    "\n",
    "ax.set_xlabel('X1')\n",
    "ax.set_ylabel('X2')\n",
    "\n",
    "plt.show()"
   ]
  },
  {
   "cell_type": "markdown",
   "id": "796b6fd2",
   "metadata": {},
   "source": [
    "## The Algorithm\n",
    "\n",
    "KNN is a non-parametric algorithm used for both regression and classification problems.\n",
    "\n",
    "Intuitively, all this algorithm does is make a prediction based on the k closest observations (in terms of euclidian distance of the features).\n",
    "\n",
    "<br/><br/>\n",
    "\n",
    "**Steps:**\n",
    "\n",
    "1 - choose k (the number of nearest neighbours that you will consider).\n",
    "\n",
    "For each observation in the test set:\n",
    "\n",
    "    2- Calculate the distance from the test set observation to every observation in the training set\n",
    "    3- Choose the k training set observations which are closest to the test set observation\n",
    "    4- Predict the label based on the k observations you have chosen (see voting mechanism below)\n",
    "\n",
    "<br/><br/>\n",
    "\n",
    "**Voting:**\n",
    "\n",
    "- Classification = the algorithm considers the k nearest observations in the training set and classifies to the most common class of those k observations\n",
    "- Regression = the algorithm considers the k nearest observations in the training set and predicts the mean of those observations\n",
    "\n",
    "<br/><br/>\n",
    "\n",
    "**Euclidian Distance:**\n",
    "\n",
    "Formula:\n",
    "\n",
    "$$ \\text{Euclidian Distance} = \\sqrt{ \\sum_{i=0}^n{(x_{test, i}-x_{train, i})^2}} $$\n",
    "\n",
    "Where n is number of dimensions (features). This would be caluclated for each test point against every possible training point, so that one can then find the k training set observations which are the closest each test point."
   ]
  },
  {
   "cell_type": "markdown",
   "id": "b8aea977",
   "metadata": {},
   "source": [
    "## Creating the class "
   ]
  },
  {
   "cell_type": "code",
   "execution_count": 46,
   "id": "5c4f8c54",
   "metadata": {},
   "outputs": [],
   "source": [
    "class KNN:\n",
    "    def __init__(self, k=3):\n",
    "        self.k = k\n",
    "\n",
    "    def fit(self, X_train, y_train):\n",
    "        \"\"\"Fit the model to the training data.\"\"\"\n",
    "        self.X_train = np.array(X_train)\n",
    "        self.y_train = np.array(y_train)\n",
    "\n",
    "    def predict_classification(self, X_test):\n",
    "        \"\"\"Make prediction for the test data. Classification data\"\"\"\n",
    "        output = []\n",
    "        \n",
    "        for x in X_test: # for each observation in X_test\n",
    "            distances = [np.linalg.norm(x - x_train) for x_train in self.X_train] # finding the distance to every node in xtrain\n",
    "            k_nearest = np.argsort(distances)[:self.k] # selecting the closest k neighbours\n",
    "            k_nearest_labels = [self.y_train[i] for i in k_nearest] # finding the corresponding label to the k nearst neighbours\n",
    "            output.append(self.most_common_class(k_nearest_labels)) # store the prediction\n",
    "        \n",
    "        return np.array(output)\n",
    "    \n",
    "    def predict_regression(self, X_test):\n",
    "        \"\"\"Make prediction for the test data. Regression data\"\"\"\n",
    "        output = []\n",
    "\n",
    "        for x in X_test: # for each observation in X_test\n",
    "            distances = [np.linalg.norm(x - x_train) for x_train in self.X_train] # finding the distance to every node in xtrain\n",
    "            k_nearest = np.argsort(distances)[:self.k] # selecting the closest k neighbours\n",
    "            k_nearest_labels = [self.y_train[i] for i in k_nearest] # finding the corresponding label to the k nearst neighbours\n",
    "            output.append(np.mean(k_nearest_labels)) # store the prediction\n",
    "\n",
    "        return np.array(output)\n",
    "        \n",
    "    def most_common_class(self, y_labs):\n",
    "        label_counts = {}\n",
    "        for label in y_labs:\n",
    "            if label in label_counts:\n",
    "                label_counts[label] += 1\n",
    "            else:\n",
    "                label_counts[label] = 1\n",
    "        most_common_label = max(label_counts, key=label_counts.get)\n",
    "        return most_common_label\n",
    "    "
   ]
  },
  {
   "cell_type": "markdown",
   "id": "12d706c3",
   "metadata": {},
   "source": [
    "## Testing it on a classification problem"
   ]
  },
  {
   "cell_type": "code",
   "execution_count": 48,
   "id": "0d795688",
   "metadata": {},
   "outputs": [
    {
     "name": "stdout",
     "output_type": "stream",
     "text": [
      "[0 1 0 0 1]\n"
     ]
    }
   ],
   "source": [
    "X_train = np.vstack((X1_train, X2_train)).T\n",
    "\n",
    "knn = KNN(k=3)\n",
    "knn.fit(X_train, y_train)\n",
    "\n",
    "X1_test = [2,4,5,7,9]\n",
    "X2_test = [1,7,2.5,2,8]\n",
    "X_test = np.vstack((X1_test, X2_test)).T\n",
    "preds = knn.predict_classification(X_test)\n",
    "print(preds)  # Output: [0, 1]"
   ]
  },
  {
   "cell_type": "code",
   "execution_count": 49,
   "id": "135e172d",
   "metadata": {},
   "outputs": [
    {
     "data": {
      "image/png": "[encoded data removed]",
      "text/plain": [
       "<Figure size 432x288 with 1 Axes>"
      ]
     },
     "metadata": {
      "needs_background": "light"
     },
     "output_type": "display_data"
    }
   ],
   "source": [
    "markers = ['o', 'x']  # 'o' for class 0, 'x' for class 1\n",
    "colors = ['r', 'b']   # 'r' for class 0, 'b' for class 1\n",
    "\n",
    "fig, ax = plt.subplots()\n",
    "\n",
    "# Plot the training data\n",
    "for i in range(len(y_train)):\n",
    "    ax.scatter(X1_train[i], X2_train[i], c=colors[y_train[i]], marker=markers[y_train[i]])\n",
    "\n",
    "# Plot the prediction data\n",
    "for i in range(len(preds)):\n",
    "    ax.scatter(X1_test[i], X2_test[i], c='g', marker=markers[preds[i]])\n",
    "\n",
    "# Plot the decision boundary\n",
    "ax.plot([0, 10], [2, 6], 'k--') \n",
    "\n",
    "# Set axis labels\n",
    "ax.set_xlabel('X1')\n",
    "ax.set_ylabel('X2')\n",
    "\n",
    "# Create custom legend handles\n",
    "from matplotlib.lines import Line2D\n",
    "\n",
    "legend_handles = [\n",
    "    Line2D([0], [0], marker='o', color='w', markerfacecolor='r', markersize=10, label='Class 0 Train'),\n",
    "    Line2D([0], [0], marker='x', color='w', markerfacecolor='b', markersize=10, label='Class 1 Train'),\n",
    "    Line2D([0], [0], marker='o', color='w', markerfacecolor='g', markersize=10, label='Class 0 Test'),\n",
    "    Line2D([0], [0], marker='x', color='w', markerfacecolor='g', markersize=10, label='Class 1 Test'),\n",
    "    Line2D([0], [0], linestyle='--', color='k', label='Decision Boundary')\n",
    "]\n",
    "\n",
    "# Add legend\n",
    "ax.legend(handles=legend_handles)\n",
    "\n",
    "# Show plot\n",
    "plt.show()\n"
   ]
  },
  {
   "cell_type": "markdown",
   "id": "0a93efe6",
   "metadata": {},
   "source": [
    "## Testing it on a regression problem"
   ]
  },
  {
   "cell_type": "code",
   "execution_count": 50,
   "id": "70320ac4",
   "metadata": {},
   "outputs": [
    {
     "name": "stdout",
     "output_type": "stream",
     "text": [
      "[1.5 3.5 4.5 3.5 1.5]\n"
     ]
    }
   ],
   "source": [
    "X1_train_reg = np.array([0, 1, 2, 3, 4, 5, 6, 7, 8, 9, 10]).reshape(-1, 1)\n",
    "y_train_reg = np.array([0,1,2,3,4,5,4,3,2,1,0])\n",
    "\n",
    "knn_reg = KNN(k=2)\n",
    "knn_reg.fit(X1_train_reg, y_train_reg)\n",
    "\n",
    "# 1D test data\n",
    "X1_test = np.array([2, 4, 5, 7, 9]).reshape(-1, 1)\n",
    "preds = knn_reg.predict_regression(X1_test)\n",
    "print(preds)  # Output: [0, 1]"
   ]
  },
  {
   "cell_type": "code",
   "execution_count": 51,
   "id": "c3b14e90",
   "metadata": {},
   "outputs": [
    {
     "data": {
      "image/png": "[encoded data removed]",
      "text/plain": [
       "<Figure size 432x288 with 1 Axes>"
      ]
     },
     "metadata": {
      "needs_background": "light"
     },
     "output_type": "display_data"
    }
   ],
   "source": [
    "fig, ax = plt.subplots()\n",
    "\n",
    "for i in range(len(y_train)):\n",
    "    ax.scatter(X1_train_reg[i], y_train_reg[i], color = 'b',  label=\"Actual\" if i == 0 else \"\")\n",
    "for i in range(len(X1_test)):\n",
    "    ax.scatter(X1_test[i], preds[i], color = 'g', label = 'Prediction' if i == 0 else \"\")\n",
    "\n",
    "\n",
    "ax.set_xlabel('X1')\n",
    "ax.set_ylabel('y')\n",
    "\n",
    "ax.legend()\n",
    "\n",
    "plt.show()"
   ]
  },
  {
   "cell_type": "markdown",
   "id": "cfb171e7",
   "metadata": {},
   "source": [
    "## That's all!\n",
    "\n",
    "Now we can see that the model is making reasonable predictions on the unseen data, we know that the job here is done!"
   ]
  }
 ],
 "metadata": {
  "kernelspec": {
   "display_name": "Python 3",
   "language": "python",
   "name": "python3"
  },
  "language_info": {
   "codemirror_mode": {
    "name": "ipython",
    "version": 3
   },
   "file_extension": ".py",
   "mimetype": "text/x-python",
   "name": "python",
   "nbconvert_exporter": "python",
   "pygments_lexer": "ipython3",
   "version": "3.8.8"
  }
 },
 "nbformat": 4,
 "nbformat_minor": 5
}
